{
 "cells": [
  {
   "cell_type": "code",
   "execution_count": null,
   "id": "ab8aac90",
   "metadata": {},
   "outputs": [],
   "source": [
    "from make_waveform import *"
   ]
  },
  {
   "cell_type": "code",
   "execution_count": null,
   "id": "41283a85",
   "metadata": {},
   "outputs": [],
   "source": [
    "## USERS EDIT THIS CELL ##\n",
    "\n",
    "blackHole1_mass = 30 #Msolar\n",
    "blackHole2_mass = 25 #Msolar\n",
    "system_distance = 1500 #Mpc"
   ]
  },
  {
   "cell_type": "code",
   "execution_count": null,
   "id": "36923b49",
   "metadata": {},
   "outputs": [],
   "source": [
    "bh1 = blackHole(blackHole1_mass, system_distance)\n",
    "bh2 = blackHole(blackHole2_mass, system_distance)\n",
    "binary = binaryBH(bh1, bh2)"
   ]
  },
  {
   "cell_type": "code",
   "execution_count": null,
   "id": "a258adc9",
   "metadata": {},
   "outputs": [],
   "source": [
    "params = binary.setParams(approx='IMRPhenomXHM')\n",
    "binary.plotWaveform()"
   ]
  },
  {
   "cell_type": "code",
   "execution_count": null,
   "id": "5e23319f",
   "metadata": {},
   "outputs": [],
   "source": []
  }
 ],
 "metadata": {
  "kernelspec": {
   "display_name": "Python 3",
   "language": "python",
   "name": "python3"
  },
  "language_info": {
   "codemirror_mode": {
    "name": "ipython",
    "version": 3
   },
   "file_extension": ".py",
   "mimetype": "text/x-python",
   "name": "python",
   "nbconvert_exporter": "python",
   "pygments_lexer": "ipython3",
   "version": "3.9.1"
  }
 },
 "nbformat": 4,
 "nbformat_minor": 5
}
