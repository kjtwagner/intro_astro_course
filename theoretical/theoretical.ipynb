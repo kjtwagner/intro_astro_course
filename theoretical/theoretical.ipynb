{
 "cells": [
  {
   "cell_type": "code",
   "execution_count": null,
   "id": "ab8aac90",
   "metadata": {},
   "outputs": [],
   "source": [
    "from make_waveform import *\n",
    "%matplotlib inline\n",
    "%config InlineBackend.figure_format = 'retina'"
   ]
  },
  {
   "cell_type": "code",
   "execution_count": null,
   "id": "41283a85",
   "metadata": {},
   "outputs": [],
   "source": [
    "## USERS EDIT THIS CELL ##\n",
    "\n",
    "blackHole1_mass = 30 #Msolar\n",
    "blackHole2_mass = 25 #Msolar\n",
    "system_distance = 1000 #Mpc"
   ]
  },
  {
   "cell_type": "code",
   "execution_count": null,
   "id": "36923b49",
   "metadata": {},
   "outputs": [],
   "source": [
    "# Create binary black hole with given parameters\n",
    "\n",
    "bh1 = blackHole(blackHole1_mass, system_distance)\n",
    "bh2 = blackHole(blackHole2_mass, system_distance)\n",
    "binary = binaryBH(bh1, bh2)"
   ]
  },
  {
   "cell_type": "code",
   "execution_count": null,
   "id": "a258adc9",
   "metadata": {},
   "outputs": [],
   "source": [
    "# Plot gravitational wave signal of the binary you created\n",
    "\n",
    "params = binary.setParams(approx='IMRPhenomXHM')\n",
    "waveform = binary.getWaveform()\n",
    "plotWaveform(binary, waveform[0])"
   ]
  },
  {
   "cell_type": "code",
   "execution_count": null,
   "id": "82811b12",
   "metadata": {},
   "outputs": [],
   "source": [
    "## BONUS\n",
    "# Plot real LIGO data collected around first detected merger event\n",
    "\n",
    "ligo_data = loadLIGOdata()\n",
    "plotLIGOdata(ligo_data)"
   ]
  },
  {
   "cell_type": "code",
   "execution_count": null,
   "id": "d50ce09c",
   "metadata": {},
   "outputs": [],
   "source": [
    "# Plot data after key signal processing performed\n",
    "\n",
    "plot_whiten(ligo_data)"
   ]
  },
  {
   "cell_type": "code",
   "execution_count": null,
   "id": "3d7bede0",
   "metadata": {},
   "outputs": [],
   "source": [
    "# Try to fit your waveform template to the real data\n",
    "# See if you can figure out the masses and distance of GW150914!\n",
    "\n",
    "plot_whiten(ligo_data, fit_template=True, binary=binary)"
   ]
  },
  {
   "cell_type": "code",
   "execution_count": null,
   "id": "4437a187",
   "metadata": {},
   "outputs": [],
   "source": []
  }
 ],
 "metadata": {
  "kernelspec": {
   "display_name": "Python 3",
   "language": "python",
   "name": "python3"
  },
  "language_info": {
   "codemirror_mode": {
    "name": "ipython",
    "version": 3
   },
   "file_extension": ".py",
   "mimetype": "text/x-python",
   "name": "python",
   "nbconvert_exporter": "python",
   "pygments_lexer": "ipython3",
   "version": "3.9.1"
  }
 },
 "nbformat": 4,
 "nbformat_minor": 5
}
