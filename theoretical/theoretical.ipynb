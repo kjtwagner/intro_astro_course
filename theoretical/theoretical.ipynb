{
 "cells": [
  {
   "cell_type": "code",
   "execution_count": null,
   "id": "ab8aac90",
   "metadata": {},
   "outputs": [],
   "source": [
    "# CELL 1\n",
    "from make_waveform import *\n",
    "%matplotlib inline\n",
    "%config InlineBackend.figure_format = 'retina'"
   ]
  },
  {
   "cell_type": "code",
   "execution_count": null,
   "id": "c27cc54f",
   "metadata": {},
   "outputs": [],
   "source": [
    "# CELL 2\n",
    "# Plot LIGO data collected around first detected merger event\n",
    "# Signal processing has been performed\n",
    "\n",
    "ligo_data = loadLIGOdata()\n",
    "plot_whiten(ligo_data)"
   ]
  },
  {
   "cell_type": "code",
   "execution_count": null,
   "id": "41283a85",
   "metadata": {},
   "outputs": [],
   "source": [
    "# CELL 3\n",
    "## USERS EDIT THIS CELL ##\n",
    "\n",
    "blackHole1_mass = 30 #Msolar\n",
    "blackHole2_mass = 25 #Msolar\n",
    "system_distance = 1500 #Mpc"
   ]
  },
  {
   "cell_type": "code",
   "execution_count": null,
   "id": "a258adc9",
   "metadata": {},
   "outputs": [],
   "source": [
    "# CELL 4\n",
    "# Create binary black hole with given parameters\n",
    "bh1 = blackHole(blackHole1_mass, system_distance)\n",
    "bh2 = blackHole(blackHole2_mass, system_distance)\n",
    "binary = binaryBH(bh1, bh2)\n",
    "\n",
    "# Plot gravitational wave signal of the binary you created\n",
    "params = binary.setParams(approx='IMRPhenomXHM')\n",
    "waveform = binary.getWaveform()\n",
    "plotWaveform(binary, waveform[0])"
   ]
  },
  {
   "cell_type": "code",
   "execution_count": null,
   "id": "d02447f4",
   "metadata": {},
   "outputs": [],
   "source": [
    "# CELL 5\n",
    "# Try to fit your waveform template to the real data\n",
    "# See if you can figure out the masses and distance of GW150914!\n",
    "\n",
    "plot_whiten(ligo_data, fit_template=True, binary=binary)"
   ]
  },
  {
   "cell_type": "code",
   "execution_count": null,
   "id": "82811b12",
   "metadata": {},
   "outputs": [],
   "source": [
    "## BONUS - see Appendix C\n",
    "# Plot real LIGO data collected around first detected merger event\n",
    "# See appendix to learn more about signal processing\n",
    "\n",
    "#ligo_data = loadLIGOdata()\n",
    "#plotLIGOdata(ligo_data)"
   ]
  }
 ],
 "metadata": {
  "kernelspec": {
   "display_name": "Python 3",
   "language": "python",
   "name": "python3"
  },
  "language_info": {
   "codemirror_mode": {
    "name": "ipython",
    "version": 3
   },
   "file_extension": ".py",
   "mimetype": "text/x-python",
   "name": "python",
   "nbconvert_exporter": "python",
   "pygments_lexer": "ipython3",
   "version": "3.9.1"
  }
 },
 "nbformat": 4,
 "nbformat_minor": 5
}
