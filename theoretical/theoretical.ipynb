{
 "cells": [
  {
   "cell_type": "markdown",
   "id": "0340ab4d",
   "metadata": {},
   "source": [
    "## Studying Black Hole Merger Signals ##\n",
    "In this module, you will look model black hole merger signals. You will investigate changes in signal shape as related to black hole mass and distance. At the end, you will fit your model signal to real data."
   ]
  },
  {
   "cell_type": "code",
   "execution_count": null,
   "id": "87fa8d28",
   "metadata": {},
   "outputs": [],
   "source": [
    "# CELL 1\n",
    "# This cell imports the important code libraries you will need.\n",
    "# Run it. There will red output - ignore it!\n",
    "from make_waveform import *\n",
    "%matplotlib inline\n",
    "%config InlineBackend.figure_format = 'retina'"
   ]
  },
  {
   "cell_type": "markdown",
   "id": "e7a0929a",
   "metadata": {},
   "source": [
    "### Make a Signal ###\n",
    "\n",
    "First, take a look at some real data that LIGO collected. The next cell plots real gravitational wave data collected in the seconds surrounding LIGO's very first detection of gravitational waves. This occurred on September 14, 2015 (hence GW150914). It looks a little wobbly, but you can see the expected shape of a gravitational wave signal right there on your plot! \n",
    "\n",
    "**Investigate:** Compare the plot you make to Figure 11 in your manual. Can you identify the inspiral, merger, and ringdown on your plot below?"
   ]
  },
  {
   "cell_type": "code",
   "execution_count": null,
   "id": "c27cc54f",
   "metadata": {},
   "outputs": [],
   "source": [
    "# CELL 2\n",
    "# Plot LIGO data collected around first detected merger event\n",
    "# Signal processing has been performed\n",
    "\n",
    "ligo_data = loadLIGOdata()\n",
    "plot_whiten(ligo_data)"
   ]
  },
  {
   "cell_type": "markdown",
   "id": "0af04f94",
   "metadata": {},
   "source": [
    "Note that this is not exactly what the data looks like straight from the detector. Some signal processing has been performed. See Appendix C in your lab manual later if you are interested in a deeper explanation of this data was processed. "
   ]
  },
  {
   "cell_type": "markdown",
   "id": "53343a92",
   "metadata": {},
   "source": [
    "### Comparing Signals ###\n",
    "\n",
    "Astronomers fit theoretical models to their real data to investigate what type of binary black hole could have produced such a signal. To do this, we must create a signal model to place over the data. The next defines some necessary variables, which here are the masses of the two black holes and the distance away from Earth the system is located. \n",
    "\n",
    "Then, the code creates two black hole objects at some distance away and makes them into a binary. Then, the cell plots the gravitational wave signal we would see if there was a binary black hole with the particular mass and distance that was set. The height of the peaks in strain (y-axis) is called the *amplitude*. We call signals with larger amplitudes (higher peaks) *louder* signals.\n",
    "\n",
    "**Investigate:** Does the example signal plot look similar to the real data above? What is the same? What is different?"
   ]
  },
  {
   "cell_type": "code",
   "execution_count": null,
   "id": "a258adc9",
   "metadata": {},
   "outputs": [],
   "source": [
    "# CELL 3\n",
    "# Create binary black hole with given parameters\n",
    "# Make an example signal plot\n",
    "\n",
    "blackHole1_mass = 30 #Msolar\n",
    "blackHole2_mass = 25 #Msolar\n",
    "system_distance = 1500 #Mpc\n",
    "\n",
    "bh1 = blackHole(blackHole1_mass, system_distance)\n",
    "bh2 = blackHole(blackHole2_mass, system_distance)\n",
    "binary = binaryBH(bh1, bh2)\n",
    "\n",
    "# Plot gravitational wave signal of the binary you created\n",
    "params = binary.setParams(approx='IMRPhenomXHM')\n",
    "waveform = binary.getWaveform()\n",
    "plotWaveform(binary, waveform[0])"
   ]
  },
  {
   "cell_type": "markdown",
   "id": "e287176f",
   "metadata": {},
   "source": [
    "### Your turn! ###\n",
    "\n",
    "**Investigate:** Try changing the values of blackHole1_mass, blackHole2_mass, and system_distance. \n",
    "- What does the signal look like when the black holes have similar or the same mass?\n",
    "- What happens if you make the masses really large?\n",
    "- What happens if you make the masses really different from each other?\n",
    "- What happens if you make the distance large (i.e. far away)?\n",
    "- What happens if you make the distance small (i.e. close by)?"
   ]
  },
  {
   "cell_type": "code",
   "execution_count": null,
   "id": "96341fa9",
   "metadata": {},
   "outputs": [],
   "source": [
    "# CELL 4\n",
    "# Change these values, then run the cell to update the plot.\n",
    "############################\n",
    "blackHole1_mass = 30 #Msolar\n",
    "blackHole2_mass = 25 #Msolar\n",
    "system_distance = 1500 #Mpc\n",
    "############################\n",
    "\n",
    "bh1 = blackHole(blackHole1_mass, system_distance)\n",
    "bh2 = blackHole(blackHole2_mass, system_distance)\n",
    "binary = binaryBH(bh1, bh2)\n",
    "\n",
    "# Plot gravitational wave signal of the binary you created\n",
    "params = binary.setParams(approx='IMRPhenomXHM')\n",
    "waveform = binary.getWaveform()\n",
    "plotWaveform(binary, waveform[0])"
   ]
  },
  {
   "cell_type": "markdown",
   "id": "6dc47c65",
   "metadata": {},
   "source": [
    "### Matching Model and Data ###\n",
    "\n",
    "Now you have experience making model gravitational wave signals, you better understand the effect of changing the masses and distance on the shape and amplitude of the gravitational wave signal. Let's revisit the real data and put this all together. \n",
    "\n",
    "**Investigate:** Try changing the values in cell 4, then run cell 5. This shows your signal model on top of the real LIGO data! How well can you make your model fit the green and red data lines by changing mass and distance values? \n",
    "\n",
    "*Note that you must rerun both cells in order for the model to update on the plot below*\n",
    "\n",
    "What is the mass of each black hole in the real data? What is the distance?"
   ]
  },
  {
   "cell_type": "code",
   "execution_count": null,
   "id": "d02447f4",
   "metadata": {},
   "outputs": [],
   "source": [
    "# CELL 5\n",
    "# Try to fit your waveform template to the real data\n",
    "# See if you can figure out the masses and distance of GW150914!\n",
    "\n",
    "plot_whiten(ligo_data, fit_template=True, binary=binary)"
   ]
  },
  {
   "cell_type": "code",
   "execution_count": null,
   "id": "82811b12",
   "metadata": {},
   "outputs": [],
   "source": [
    "## BONUS - see Appendix C\n",
    "# Plot real LIGO data collected around first detected merger event\n",
    "# See appendix to learn more about signal processing\n",
    "\n",
    "#ligo_data = loadLIGOdata()\n",
    "#plotLIGOdata(ligo_data)"
   ]
  },
  {
   "cell_type": "code",
   "execution_count": null,
   "id": "a560223d",
   "metadata": {},
   "outputs": [],
   "source": []
  }
 ],
 "metadata": {
  "kernelspec": {
   "display_name": "Python 3 (ipykernel)",
   "language": "python",
   "name": "python3"
  },
  "language_info": {
   "codemirror_mode": {
    "name": "ipython",
    "version": 3
   },
   "file_extension": ".py",
   "mimetype": "text/x-python",
   "name": "python",
   "nbconvert_exporter": "python",
   "pygments_lexer": "ipython3",
   "version": "3.9.1"
  }
 },
 "nbformat": 4,
 "nbformat_minor": 5
}
