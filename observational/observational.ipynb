{
 "cells": [
  {
   "cell_type": "code",
   "execution_count": null,
   "id": "50ebb430",
   "metadata": {},
   "outputs": [],
   "source": [
    "#### INTRODUCTION ####\n",
    "import lightcurve as lc\n",
    "import numpy as np"
   ]
  },
  {
   "cell_type": "code",
   "execution_count": null,
   "id": "dfb21fc8",
   "metadata": {},
   "outputs": [],
   "source": [
    "#### EXOPLANET DATA ####\n",
    "# Let's look at a single transit from the data\n",
    "# This is a very short amount of data\n",
    "\n",
    "data = lc.load_data('5651104/plot.tbl')\n",
    "\n",
    "time = data[0]\n",
    "flux = data[1]\n",
    "lc.plot_lc(time[50:100],flux[50:100])"
   ]
  },
  {
   "cell_type": "code",
   "execution_count": null,
   "id": "d1fd4e1f",
   "metadata": {},
   "outputs": [],
   "source": [
    "# Let's zoom out a little more\n",
    "## Now it looks the transit cartoon in the notes\n",
    "\n",
    "lc.plot_lc(time[0:300],flux[0:300])"
   ]
  },
  {
   "cell_type": "code",
   "execution_count": null,
   "id": "dfb2e98a",
   "metadata": {},
   "outputs": [],
   "source": [
    "# Plot more of the data, to zoom out a little more\n",
    "## Notice the number of dips!\n",
    "\n",
    "lc.plot_lc(time[0:1450],flux[0:1450])"
   ]
  },
  {
   "cell_type": "code",
   "execution_count": null,
   "id": "bfaf2f9e",
   "metadata": {},
   "outputs": [],
   "source": [
    "#period_estimate = "
   ]
  },
  {
   "cell_type": "code",
   "execution_count": null,
   "id": "2c2ce140",
   "metadata": {},
   "outputs": [],
   "source": [
    "#### MAKING SENSE OF LIGHTCURVES ####\n",
    "# Use your period estimate to fold the light curve.\n",
    "\n",
    "t_fold = lc.fold(time[0:5000], period_estimate)\n",
    "lc.plot_phase(t_fold, flux[0:5000])"
   ]
  },
  {
   "cell_type": "code",
   "execution_count": null,
   "id": "0cd36b44",
   "metadata": {},
   "outputs": [],
   "source": [
    "# Use the known period. Find the transit depth of the exoplanet.\n",
    "known_period_565 = 3.040330459\n",
    "t_fold = lc.fold(time[0:5000], known_period_565)\n",
    "lc.plot_phase(t_fold, flux[0:5000])"
   ]
  },
  {
   "cell_type": "code",
   "execution_count": null,
   "id": "bfbce727",
   "metadata": {},
   "outputs": [],
   "source": [
    "#### USING LIGHTCURVES TO LEARN ####\n",
    "# Estimate the size of the exoplanet\n",
    "star_radius = 0.80*6.957*10**8\n",
    "earth_radius = 6.378*10**6\n",
    "\n",
    "#depth = \n",
    "\n",
    "planet_radius = star_radius * np.sqrt(depth)\n",
    "print(\"The radius of this exoplanet is {:.2f} times the radius of Earth.\".format(planet_radius/earth_radius))"
   ]
  },
  {
   "cell_type": "code",
   "execution_count": null,
   "id": "187aa8fa",
   "metadata": {},
   "outputs": [],
   "source": []
  }
 ],
 "metadata": {
  "kernelspec": {
   "display_name": "Python 3",
   "language": "python",
   "name": "python3"
  },
  "language_info": {
   "codemirror_mode": {
    "name": "ipython",
    "version": 3
   },
   "file_extension": ".py",
   "mimetype": "text/x-python",
   "name": "python",
   "nbconvert_exporter": "python",
   "pygments_lexer": "ipython3",
   "version": "3.9.1"
  }
 },
 "nbformat": 4,
 "nbformat_minor": 5
}
