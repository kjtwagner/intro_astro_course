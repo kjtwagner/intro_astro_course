{
 "cells": [
  {
   "cell_type": "markdown",
   "id": "688d1251",
   "metadata": {},
   "source": [
    "## Observing Exoplanets ##\n",
    "In this module, you will look at real exoplanet data. You will determine the radius of the exoplanet in order to classify it according to its exoplanet type (lab manual figure 2)."
   ]
  },
  {
   "cell_type": "code",
   "execution_count": null,
   "id": "433eddcb",
   "metadata": {},
   "outputs": [],
   "source": [
    "#### INTRODUCTION ####\n",
    "# This cell imports the important code libraries you will need.\n",
    "# Run it. There will be no output.\n",
    " \n",
    "import lightcurve as lc\n",
    "import numpy as np"
   ]
  },
  {
   "cell_type": "markdown",
   "id": "5c7de6c8",
   "metadata": {},
   "source": [
    "### Exoplanet Data ###\n",
    "\n",
    "First, you will look at plots of the transit data. The graphs will show the brightness of the star+exoplanet system (normalized flux is the technical term) over time. We call these plots *lightcurves*.\n",
    "\n",
    "**Investigate:** Think about the plots you saw in the exoplanet lecture as you create the plots below. Do they look how you expected?"
   ]
  },
  {
   "cell_type": "code",
   "execution_count": null,
   "id": "dfb21fc8",
   "metadata": {},
   "outputs": [],
   "source": [
    "#### EXOPLANET DATA ####\n",
    "# Let's look at a single transit from the data. Run the cell to make a plot.\n",
    "\n",
    "data = lc.load_data('5651104/plot.tbl')\n",
    "\n",
    "time = data[0]\n",
    "flux = data[1]\n",
    "lc.plot_lc(time[50:100],flux[50:100])"
   ]
  },
  {
   "cell_type": "code",
   "execution_count": null,
   "id": "d1fd4e1f",
   "metadata": {},
   "outputs": [],
   "source": [
    "# Let's zoom out a little more. Run the cell to make another plot.\n",
    "## Now it looks the transit cartoon in the notes\n",
    "\n",
    "lc.plot_lc(time[0:300],flux[0:300])"
   ]
  },
  {
   "cell_type": "code",
   "execution_count": null,
   "id": "dfb2e98a",
   "metadata": {},
   "outputs": [],
   "source": [
    "# Run this cell to plot more of the data, zooming out a little more\n",
    "## Notice the number of dips!\n",
    "\n",
    "lc.plot_lc(time[0:1450],flux[0:1450])"
   ]
  },
  {
   "cell_type": "markdown",
   "id": "9422dd56",
   "metadata": {},
   "source": [
    "### Making Sense of Lightcurves ###\n",
    "\n",
    "Remember from the lecture that we want to measure the *period* of the system. Exoplanets generally orbit their host stars at a fixed speed. Each time an exoplanet passes, there is a dip in the total brightness of the system. Measuring the distance between dips gives you the period. \n",
    "\n",
    "**Investigate:** Try to measure the distance between dips by eye. Type your guess after the equal sign in the cell below."
   ]
  },
  {
   "cell_type": "code",
   "execution_count": null,
   "id": "bfaf2f9e",
   "metadata": {},
   "outputs": [],
   "source": [
    "# After you type your guess, remove the '#' symbol before period_estimate and run this cell.\n",
    "\n",
    "#period_estimate = \n",
    "print('The estimated period is {} seconds'.format(period_estimate))"
   ]
  },
  {
   "cell_type": "markdown",
   "id": "4f53564f",
   "metadata": {},
   "source": [
    "### Lightcurve Folding ###\n",
    "\n",
    "The other important quantity scientists work hard to find is *transit depth*. This measures how much of a dip in the total brightness there is when an exoplanet crosses in front of the star.\n",
    "\n",
    "You might notice that the dips have fewer points than the rest of your plot, where the points mostly stay around 1.0. To get a more accurate estimate of the transit depth, we can put slices of data on top of each other in a way that lines up the dips. This \"slicing and stacking\" is called *folding*, and it combines all the knowledge of the dips over time to give a more accurate estimate of what the transit depth might be for this exoplanet.\n",
    "\n",
    "**Investigate:** The size of the slices is determined by your period estimate. If your guess is a little off, the dips will not line up! Try different period estimates above to see how well you can line up the dips."
   ]
  },
  {
   "cell_type": "code",
   "execution_count": null,
   "id": "2c2ce140",
   "metadata": {},
   "outputs": [],
   "source": [
    "#### MAKING SENSE OF LIGHTCURVES ####\n",
    "# Use your period estimate to fold the light curve.\n",
    "\n",
    "t_fold = lc.fold(time[0:5000], period_estimate)\n",
    "lc.plot_phase(t_fold, flux[0:5000])"
   ]
  },
  {
   "cell_type": "markdown",
   "id": "e50b2407",
   "metadata": {},
   "source": [
    "**Investigate:** Now that you tried a few different period estimates, the cell below uses the exact period value to fold the lightcurve. Were your estimates close?"
   ]
  },
  {
   "cell_type": "code",
   "execution_count": null,
   "id": "0cd36b44",
   "metadata": {},
   "outputs": [],
   "source": [
    "# Use the known period. Find the transit depth of the exoplanet.\n",
    "known_period_565 = 3.040330459\n",
    "t_fold = lc.fold(time[0:5000], known_period_565)\n",
    "lc.plot_phase(t_fold, flux[0:5000])"
   ]
  },
  {
   "cell_type": "markdown",
   "id": "bfcc91a7",
   "metadata": {},
   "source": [
    "### Using Lightcurves to Learn ###\n",
    "\n",
    "In the last cell, we are taking the transit depth and using a known relationship (see Appendix B in the lab manual later if you are interested in a deeper explanation) to convert it into an estimate for the radius of the exoplanet. This cell prints out the size of the exoplanet in terms of how many times the radius of Earth this exoplanet is. \n",
    "\n",
    "**Investigate:** What type of exoplanet would you classify this as?"
   ]
  },
  {
   "cell_type": "code",
   "execution_count": null,
   "id": "bfbce727",
   "metadata": {},
   "outputs": [],
   "source": [
    "#### USING LIGHTCURVES TO LEARN ####\n",
    "# Estimate the size of the exoplanet\n",
    "star_radius = 1.02*6.957*10**8\n",
    "earth_radius = 6.378*10**6\n",
    "\n",
    "depth = 1.0-.987\n",
    "\n",
    "planet_radius = star_radius * np.sqrt(depth)\n",
    "print(\"The radius of this exoplanet is {:.2f} times the radius of Earth.\".format(planet_radius/earth_radius))"
   ]
  },
  {
   "cell_type": "code",
   "execution_count": null,
   "id": "187aa8fa",
   "metadata": {},
   "outputs": [],
   "source": []
  },
  {
   "cell_type": "code",
   "execution_count": null,
   "id": "27dfe59d",
   "metadata": {},
   "outputs": [],
   "source": []
  }
 ],
 "metadata": {
  "kernelspec": {
   "display_name": "Python 3 (ipykernel)",
   "language": "python",
   "name": "python3"
  },
  "language_info": {
   "codemirror_mode": {
    "name": "ipython",
    "version": 3
   },
   "file_extension": ".py",
   "mimetype": "text/x-python",
   "name": "python",
   "nbconvert_exporter": "python",
   "pygments_lexer": "ipython3",
   "version": "3.9.1"
  }
 },
 "nbformat": 4,
 "nbformat_minor": 5
}
