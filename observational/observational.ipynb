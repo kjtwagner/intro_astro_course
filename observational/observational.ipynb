{
 "cells": [
  {
   "cell_type": "code",
   "execution_count": null,
   "id": "50ebb430",
   "metadata": {},
   "outputs": [],
   "source": [
    "import lightcurve as lc\n",
    "import numpy as np"
   ]
  },
  {
   "cell_type": "code",
   "execution_count": null,
   "id": "28367e36",
   "metadata": {},
   "outputs": [],
   "source": [
    "known_period_565 = 3.040330459"
   ]
  },
  {
   "cell_type": "code",
   "execution_count": null,
   "id": "dfb21fc8",
   "metadata": {},
   "outputs": [],
   "source": [
    "# Find the period of the exoplanet.\n",
    "\n",
    "data = lc.load_data('5651104/plot.tbl')\n",
    "\n",
    "time = data[0]\n",
    "flux = data[1]\n",
    "lc.plot_lc(time[0:1500],flux[0:1500])"
   ]
  },
  {
   "cell_type": "code",
   "execution_count": null,
   "id": "58e91557",
   "metadata": {},
   "outputs": [],
   "source": [
    "#period_estimate = "
   ]
  },
  {
   "cell_type": "code",
   "execution_count": null,
   "id": "4fe1eb96",
   "metadata": {},
   "outputs": [],
   "source": [
    "# Use your period estimate to fold the light curve.\n",
    "\n",
    "t_fold = lc.fold(time[0:5000], period_estimate)\n",
    "lc.plot_phase(t_fold, flux[0:5000])"
   ]
  },
  {
   "cell_type": "code",
   "execution_count": null,
   "id": "0cd36b44",
   "metadata": {},
   "outputs": [],
   "source": [
    "# Use the known period. Find the transit depth of the exoplanet.\n",
    "\n",
    "t_fold = lc.fold(time[0:5000], known_period_565)\n",
    "lc.plot_phase(t_fold, flux[0:5000])"
   ]
  },
  {
   "cell_type": "code",
   "execution_count": null,
   "id": "bfbce727",
   "metadata": {},
   "outputs": [],
   "source": [
    "# Estimate the size of the exoplanet\n",
    "star_radius = 0.80*6.957*10**8 # M_solar\n",
    "earth_radius = 6.378*10**6\n",
    "\n",
    "#depth = \n",
    "\n",
    "planet_radius = star_radius * np.sqrt(depth)\n",
    "planet_radius/earth_radius"
   ]
  },
  {
   "cell_type": "code",
   "execution_count": null,
   "id": "c6e44d34",
   "metadata": {},
   "outputs": [],
   "source": []
  }
 ],
 "metadata": {
  "kernelspec": {
   "display_name": "Python 3",
   "language": "python",
   "name": "python3"
  },
  "language_info": {
   "codemirror_mode": {
    "name": "ipython",
    "version": 3
   },
   "file_extension": ".py",
   "mimetype": "text/x-python",
   "name": "python",
   "nbconvert_exporter": "python",
   "pygments_lexer": "ipython3",
   "version": "3.9.1"
  }
 },
 "nbformat": 4,
 "nbformat_minor": 5
}
