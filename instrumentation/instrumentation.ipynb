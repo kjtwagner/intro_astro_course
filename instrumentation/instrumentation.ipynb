{
 "cells": [
  {
   "cell_type": "code",
   "execution_count": null,
   "id": "fa4f174c",
   "metadata": {},
   "outputs": [],
   "source": [
    "%matplotlib notebook\n",
    "\n",
    "# First let's import our image-making module\n",
    "import image as img\n",
    "\n",
    "# Let's create an image assuming it is a grid of 1024x1024 pixels\n",
    "# That's over a million total pixels!\n",
    "image = img.Image(1024)\n",
    "\n",
    "# Let's also start with 25 objects - you can edit this later on\n",
    "image.add_objects(25, prob=0.3)\n",
    "\n",
    "# To start, we will not apply any image effects\n",
    "# These are the image effects we will explore in this lab\n",
    "#image.add_effects([\"dark_current\", \"telescope_cover\", \"dead_pixels\", \"dead_arrays\"])\n",
    "#image.add_effects([\"telescope_cover\"])\n",
    "\n",
    "# Finally, we want to make a plot of our image\n",
    "image.plot()"
   ]
  }
 ],
 "metadata": {
  "kernelspec": {
   "display_name": "Python 3 (ipykernel)",
   "language": "python",
   "name": "python3"
  },
  "language_info": {
   "codemirror_mode": {
    "name": "ipython",
    "version": 3
   },
   "file_extension": ".py",
   "mimetype": "text/x-python",
   "name": "python",
   "nbconvert_exporter": "python",
   "pygments_lexer": "ipython3",
   "version": "3.9.10"
  }
 },
 "nbformat": 4,
 "nbformat_minor": 5
}
