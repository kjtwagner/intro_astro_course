{
 "cells": [
  {
   "cell_type": "code",
   "execution_count": null,
   "id": "fa4f174c",
   "metadata": {},
   "outputs": [],
   "source": [
    "%matplotlib notebook\n",
    "\n",
    "# First let's import our image processing module\n",
    "import image as img\n",
    "\n",
    "# Let's display the JWST Deep Field image, \n",
    "# assuming it was taken using a detector with \n",
    "# 1024x1024 pixels. That's over a million pixels!\n",
    "image = img.Image(1024)\n",
    "\n",
    "# To start, we will not apply any image effects\n",
    "# These are the image effects we will explore in this module\n",
    "#image.add_effects([\"satellite_transits\", \"telescope_cover\", \"dead_pixels\", \"dead_arrays\", \"cosmic_rays\"])\n",
    "#image.add_effects([\"satellite_transits\"])\n",
    "\n",
    "# Finally, we want to make a plot of our image\n",
    "image.plot()"
   ]
  }
 ],
 "metadata": {
  "kernelspec": {
   "display_name": "Python 3 (ipykernel)",
   "language": "python",
   "name": "python3"
  },
  "language_info": {
   "codemirror_mode": {
    "name": "ipython",
    "version": 3
   },
   "file_extension": ".py",
   "mimetype": "text/x-python",
   "name": "python",
   "nbconvert_exporter": "python",
   "pygments_lexer": "ipython3",
   "version": "3.9.10"
  }
 },
 "nbformat": 4,
 "nbformat_minor": 5
}
