{
 "cells": [
  {
   "cell_type": "code",
   "execution_count": null,
   "id": "5fcd3ad4",
   "metadata": {},
   "outputs": [],
   "source": [
    "%%html\n",
    "<!--\n",
    "*** RUN THE CODE IN THIS CELL ONLY ONCE ***\n",
    "The code below sets up the image viewing software we will be using.\n",
    "-->\n",
    "<div class=\"JS9Menubar\"></div>\n",
    "<div class=\"JS9\"></div>\n",
    "<link type=\"text/css\" rel=\"stylesheet\" href=\"https://js9.si.edu/js9/js9-allinone.css\">\n",
    "<script type=\"text/javascript\" src=\"https://js9.si.edu/js9/js9-allinone.js\"></script>"
   ]
  },
  {
   "cell_type": "code",
   "execution_count": null,
   "id": "fa4f174c",
   "metadata": {},
   "outputs": [],
   "source": [
    "%%capture \n",
    "# the above line prevents figures from being plotted below the cells, we don't want that\n",
    "\n",
    "import image as img\n",
    "\n",
    "image = img.Image(1024)\n",
    "#image = img.Image(256)\n",
    "image.add_objects(25)\n",
    "#image.add_effects([])\n",
    "#image.add_effects([\"dark_current\"])\n",
    "image.add_effects([\"telescope_cover\"])\n",
    "#image.add_effects([\"dead_pixels\"])\n",
    "#image.add_effects([\"dead_arrays\"])\n",
    "#image.add_effects([\"dark_current\", \"telescope_cover\"])\n",
    "image.plot()\n",
    "image.write_fits(\"telescope_cover.fits\")"
   ]
  }
 ],
 "metadata": {
  "kernelspec": {
   "display_name": "Python 3 (ipykernel)",
   "language": "python",
   "name": "python3"
  },
  "language_info": {
   "codemirror_mode": {
    "name": "ipython",
    "version": 3
   },
   "file_extension": ".py",
   "mimetype": "text/x-python",
   "name": "python",
   "nbconvert_exporter": "python",
   "pygments_lexer": "ipython3",
   "version": "3.9.10"
  }
 },
 "nbformat": 4,
 "nbformat_minor": 5
}
